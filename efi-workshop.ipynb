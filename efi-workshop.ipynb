{
 "cells": [
  {
   "cell_type": "code",
   "execution_count": null,
   "metadata": {
    "vscode": {
     "languageId": "bat"
    }
   },
   "outputs": [],
   "source": [
    "!apt update && apt-get install -y libnetcdf-dev libgd-dev\n",
    "!mkdir -p glmpy\n",
    "!git clone --depth 1 --filter=blob:none --sparse https://github.com/AquaticEcoDynamics/efi-workshop\n",
    "!cd efi-workshop && git sparse-checkout set glmpy && cp -r glmpy ../ && cd .. && rm -rf efi-workshop\n",
    "!curl https://raw.githubusercontent.com/AquaticEcoDynamics/efi-workshop/refs/heads/main/requirements.txt --output requirements.txt\n",
    "!pip install -r requirements.txt"
   ]
  },
  {
   "cell_type": "code",
   "execution_count": null,
   "metadata": {},
   "outputs": [],
   "source": [
    "import matplotlib.pyplot as plt\n",
    "\n",
    "from glmpy import plots\n",
    "from glmpy.example_sims import SparklingSim"
   ]
  },
  {
   "cell_type": "code",
   "execution_count": null,
   "metadata": {},
   "outputs": [],
   "source": [
    "sparkling = SparklingSim()\n",
    "sparkling.run(time_sim=True, write_log=True)"
   ]
  },
  {
   "cell_type": "code",
   "execution_count": null,
   "metadata": {},
   "outputs": [],
   "source": [
    "nc = plots.NCProfile(\"sparkling/output/output.nc\")\n",
    "fig, ax = plt.subplots(figsize=(10, 5))\n",
    "out = nc.plot_var(ax=ax, var=\"temp\")\n",
    "col_bar = fig.colorbar(out)\n",
    "col_bar.set_label(\"Temperature (°C)\")"
   ]
  }
 ],
 "metadata": {
  "kernelspec": {
   "display_name": "Python 3",
   "language": "python",
   "name": "python3"
  },
  "language_info": {
   "codemirror_mode": {
    "name": "ipython",
    "version": 3
   },
   "file_extension": ".py",
   "mimetype": "text/x-python",
   "name": "python",
   "nbconvert_exporter": "python",
   "pygments_lexer": "ipython3",
   "version": "3.10.11"
  }
 },
 "nbformat": 4,
 "nbformat_minor": 2
}
