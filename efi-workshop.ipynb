{
 "cells": [
  {
   "cell_type": "code",
   "execution_count": null,
   "metadata": {
    "vscode": {
     "languageId": "bat"
    }
   },
   "outputs": [],
   "source": [
    "!apt update && apt-get install -y libnetcdf-dev libgd-dev\n",
    "!mkdir -p glmpy\n",
    "!git clone --depth 1 --filter=blob:none --sparse https://github.com/AquaticEcoDynamics/efi-workshop\n",
    "!cd efi-workshop && git sparse-checkout set glmpy case_studies && cp -r glmpy ../ && cp -r case_studies ../ && cd .. && rm -rf efi-workshop\n",
    "!curl https://raw.githubusercontent.com/AquaticEcoDynamics/efi-workshop/refs/heads/main/requirements.txt --output requirements.txt\n",
    "!pip install -r requirements.txt\n",
    "!curl https://raw.githubusercontent.com/AquaticEcoDynamics/efi-workshop/refs/heads/main/bin/glm_3.3.3_linux_x86_64 --output glm\n",
    "!chmod +x glm\n",
    "!pip install -e glmpy"
   ]
  },
  {
   "cell_type": "code",
   "execution_count": null,
   "metadata": {},
   "outputs": [],
   "source": [
    "import pandas as pd\n",
    "import matplotlib.pyplot as plt\n",
    "import matplotlib.dates as mdates\n",
    "\n",
    "from glmpy import plots\n",
    "from glmpy.nml import nml, glm_nml, aed_nml\n",
    "from glmpy.example_sims import SparklingSim"
   ]
  },
  {
   "cell_type": "markdown",
   "metadata": {},
   "source": [
    "### Running `SparklingSim`"
   ]
  },
  {
   "cell_type": "markdown",
   "metadata": {},
   "source": [
    "glm-py's `GLMSim` objects represent a GLM simulation. They are responsible for storing all the model data (parameters and boundary condition data) and providing methods needed to run and modify the simulation. The `example_sims` module provides prebuilt `GLMSim` objects that can be run immediately. Initialise an instance of the `SparklingSim` class to get started:  "
   ]
  },
  {
   "cell_type": "code",
   "execution_count": null,
   "metadata": {},
   "outputs": [],
   "source": [
    "sparkling = SparklingSim(sim_name=\"sparkling\")"
   ]
  },
  {
   "cell_type": "markdown",
   "metadata": {},
   "source": [
    "Running the simulation is as simple as calling the `run()` method:"
   ]
  },
  {
   "cell_type": "code",
   "execution_count": null,
   "metadata": {},
   "outputs": [],
   "source": [
    "sparkling.run(time_sim=True, write_log=True, glm_path=\"bin/glm_3.3.3_linux_arm64\")"
   ]
  },
  {
   "cell_type": "markdown",
   "metadata": {},
   "source": [
    "### Plotting outputs"
   ]
  },
  {
   "cell_type": "markdown",
   "metadata": {},
   "source": [
    "glm-py's `plots` module provides a collection of classes for plotting GLM outputs with matplotlib. The `LakePlotter` class provides methods for plotting GLM's `lake.csv` output. Initialise an instance of `LakePlotter` by providing the path to the `lake.csv` output. By defualt glmpy will create a output directory that matches the `sim_name`:"
   ]
  },
  {
   "cell_type": "code",
   "execution_count": null,
   "metadata": {},
   "outputs": [],
   "source": [
    "lake = plots.LakePlotter(\"sparkling/output/lake.csv\")"
   ]
  },
  {
   "cell_type": "markdown",
   "metadata": {},
   "source": [
    "The `lake_volume()` method is used for creating a line plot of the lake volume (in m^3). Call the method by providing a matplotlib `Axes` object to plot on:"
   ]
  },
  {
   "cell_type": "code",
   "execution_count": null,
   "metadata": {},
   "outputs": [],
   "source": [
    "fig, ax = plt.subplots(figsize=(10, 5))\n",
    "lake.lake_volume(ax=ax)"
   ]
  },
  {
   "cell_type": "markdown",
   "metadata": {},
   "source": [
    "`water_balance_components()` is used to create a daily line plot of the water balance components (m^3/day):"
   ]
  },
  {
   "cell_type": "code",
   "execution_count": null,
   "metadata": {},
   "outputs": [],
   "source": [
    "fig, ax = plt.subplots(figsize=(10, 5))\n",
    "out = lake.water_balance_components(\n",
    "    ax=ax, \n",
    "    rain_params={\"linestyle\": \"--\"},\n",
    "    local_runoff_params=None, \n",
    "    overflow_vol_params=None,\n",
    "    snowfall_params=None\n",
    ")\n",
    "ax.legend(handles=out)"
   ]
  },
  {
   "cell_type": "markdown",
   "metadata": {},
   "source": [
    "More advanced plots can be created using `LakePlotter`'s various mathod and the full matplotlib API:"
   ]
  },
  {
   "cell_type": "code",
   "execution_count": null,
   "metadata": {},
   "outputs": [],
   "source": [
    "fig, ax = plt.subplots(2, 2, figsize=(15, 15))\n",
    "date_formatter = mdates.DateFormatter(\"%m/%y\")\n",
    "\n",
    "out = lake.water_balance(ax=ax[0, 0])\n",
    "ax[0, 0].xaxis.set_major_formatter(date_formatter)\n",
    "out = lake.water_balance_components(\n",
    "    ax=ax[0,1], \n",
    "    local_runoff_params=None, \n",
    "    overflow_vol_params=None,\n",
    "    snowfall_params=None\n",
    ")\n",
    "ax[0, 1].legend(handles=out, ncols=2, loc=0)\n",
    "ax[0, 1].xaxis.set_major_formatter(date_formatter)\n",
    "out = lake.lake_temp(ax[1, 0])\n",
    "ax[1, 0].legend(handles=out, ncols=2, loc=0)\n",
    "ax[1, 0].xaxis.set_major_formatter(date_formatter)\n",
    "out = lake.heat_balance_components(ax[1, 1])\n",
    "ax[1, 1].legend(handles=out, ncols=2, loc=0)\n",
    "ax[1, 1].xaxis.set_major_formatter(date_formatter)"
   ]
  },
  {
   "cell_type": "markdown",
   "metadata": {},
   "source": [
    "The `NCProfile` class of the `plots` module can be used plot an output variable for all depths and timesteps of the simulation. This class is initialised by providing a path to the `output.nc` NetCDF file:"
   ]
  },
  {
   "cell_type": "code",
   "execution_count": null,
   "metadata": {},
   "outputs": [],
   "source": [
    "nc = plots.NCProfile(\"sparkling/output/output.nc\")"
   ]
  },
  {
   "cell_type": "code",
   "execution_count": null,
   "metadata": {},
   "outputs": [],
   "source": [
    "fig, ax = plt.subplots(figsize=(10, 5))\n",
    "out = nc.plot_var(ax=ax, var=\"temp\")\n",
    "col_bar = fig.colorbar(out)\n",
    "col_bar.set_label(\"Temperature (°C)\")"
   ]
  },
  {
   "cell_type": "markdown",
   "metadata": {},
   "source": [
    "`NCProfile` also provides methods to assist with automating the plotting of variables:\n",
    "\n",
    "- `get_vars` returns a list of variables that can be plotted with plot_var\n",
    "- `get_long_name` returns the unabbreviated name of a variable\n",
    "- `get_units` returns the units of a variable"
   ]
  },
  {
   "cell_type": "code",
   "execution_count": null,
   "metadata": {},
   "outputs": [],
   "source": [
    "vars = nc.get_vars()\n",
    "vars"
   ]
  },
  {
   "cell_type": "code",
   "execution_count": null,
   "metadata": {},
   "outputs": [],
   "source": [
    "plot_vars = vars[3:5] # returns ['salt', 'temp']\n",
    "fig, axs = plt.subplots(nrows=2, ncols=1, figsize=(10, 10))\n",
    "for idx, var, in enumerate(plot_vars):\n",
    "    out = nc.plot_var(axs[idx], var)\n",
    "    long_name = nc.get_long_name(var)\n",
    "    units = nc.get_units(var)\n",
    "    col_bar = fig.colorbar(out)\n",
    "    col_bar.set_label(f\"{long_name} ({units})\")"
   ]
  },
  {
   "cell_type": "markdown",
   "metadata": {},
   "source": [
    "### Inspecting the NML"
   ]
  },
  {
   "cell_type": "markdown",
   "metadata": {},
   "source": [
    "The `nml` attribute of a `GLMSim` object is resposible for storing all the model parameters found in `.nml` files. These parameters are represented as `NMLParam` objects that are stored in a hierarchical structure of `NMLBlock` objects and `NML` objects. Individual parameters can be accessed directly on the `GLMSim` object using the following syntax:"
   ]
  },
  {
   "cell_type": "code",
   "execution_count": null,
   "metadata": {},
   "outputs": [],
   "source": [
    "sparkling.nml[\"glm\"].blocks[\"glm_setup\"].params[\"min_layer_vol\"].value"
   ]
  },
  {
   "cell_type": "code",
   "execution_count": null,
   "metadata": {},
   "outputs": [],
   "source": [
    "sparkling.nml[\"glm\"].blocks[\"glm_setup\"].params[\"min_layer_vol\"].value = 1.0"
   ]
  },
  {
   "cell_type": "markdown",
   "metadata": {},
   "source": [
    "For a less verbose syntax, parameter values can also be accessed using the `get_param_value()` and `set_param_value()` methods:"
   ]
  },
  {
   "cell_type": "code",
   "execution_count": null,
   "metadata": {},
   "outputs": [],
   "source": [
    "sparkling.set_param_value(\"glm\", \"glm_setup\", \"min_layer_vol\", 0.5)"
   ]
  },
  {
   "cell_type": "code",
   "execution_count": null,
   "metadata": {},
   "outputs": [],
   "source": [
    "sparkling.get_param_value(\"glm\", \"glm_setup\", \"min_layer_vol\")"
   ]
  },
  {
   "cell_type": "markdown",
   "metadata": {},
   "source": [
    "Blocks of parameters (`NMLBlock` objects) can also be accessed directly via attributes or using the `get_block()` and `set_block()` methods. The `to_dict()` method returns a dictionary representation of the block's parameters:"
   ]
  },
  {
   "cell_type": "code",
   "execution_count": null,
   "metadata": {},
   "outputs": [],
   "source": [
    "sparkling.nml[\"glm\"].blocks[\"glm_setup\"].to_dict()"
   ]
  },
  {
   "cell_type": "code",
   "execution_count": null,
   "metadata": {},
   "outputs": [],
   "source": [
    "sparkling.get_block(\"glm\", \"glm_setup\").to_dict()"
   ]
  },
  {
   "cell_type": "markdown",
   "metadata": {},
   "source": [
    "`NML` objects, that store a collection of `NMLBlock` objects, can be accessed in a similar way:"
   ]
  },
  {
   "cell_type": "code",
   "execution_count": null,
   "metadata": {},
   "outputs": [],
   "source": [
    "sparkling.nml[\"glm\"].to_dict()"
   ]
  },
  {
   "cell_type": "code",
   "execution_count": null,
   "metadata": {},
   "outputs": [],
   "source": [
    "sparkling.get_nml(\"glm\").to_dict()"
   ]
  },
  {
   "cell_type": "markdown",
   "metadata": {},
   "source": [
    "### Inspecting the boundary conditions"
   ]
  },
  {
   "cell_type": "markdown",
   "metadata": {},
   "source": [
    "All boundary conditions files needed to run a GLM simulation are stored in the `bcs` attribute. `bcs` is a dictionary where the key is the output file name (without the file extension), and the value is a Pandas `DataFrame` object:"
   ]
  },
  {
   "cell_type": "code",
   "execution_count": null,
   "metadata": {},
   "outputs": [],
   "source": [
    "sparkling.bcs['nldas_driver']"
   ]
  },
  {
   "cell_type": "markdown",
   "metadata": {},
   "source": [
    "Boundary condition dataframes can be modified using the Pandas API:"
   ]
  },
  {
   "cell_type": "code",
   "execution_count": null,
   "metadata": {},
   "outputs": [],
   "source": [
    "original_bcs = sparkling.bcs['nldas_driver']\n",
    "modified_bcs = sparkling.bcs['nldas_driver']\n",
    "modified_bcs[\"ShortWave\"] = modified_bcs[\"ShortWave\"] * 2\n",
    "sparkling.bcs['nldas_driver'] = modified_bcs\n",
    "sparkling.bcs['nldas_driver']"
   ]
  },
  {
   "cell_type": "code",
   "execution_count": null,
   "metadata": {},
   "outputs": [],
   "source": [
    "sparkling.bcs['nldas_driver'] = original_bcs"
   ]
  },
  {
   "cell_type": "markdown",
   "metadata": {},
   "source": [
    "### Adding AED"
   ]
  },
  {
   "cell_type": "markdown",
   "metadata": {},
   "source": [
    "`SparklingSim` currently lacks the `wq_setup` block:"
   ]
  },
  {
   "cell_type": "code",
   "execution_count": null,
   "metadata": {},
   "outputs": [],
   "source": [
    "print(sparkling.get_block(nml_name=\"glm\", block_name=\"wq_setup\"))"
   ]
  },
  {
   "cell_type": "markdown",
   "metadata": {},
   "source": [
    "We can create a `NMLBlock` object for `wq_setup` using the `WQSetupBlock` class in the `glm_nml` module:"
   ]
  },
  {
   "cell_type": "code",
   "execution_count": null,
   "metadata": {},
   "outputs": [],
   "source": [
    "wq_setup = glm_nml.WQSetupBlock(\n",
    "    wq_lib=\"aed\",\n",
    "    wq_nml_file='aed/aed.nml',\n",
    "    ode_method=1,\n",
    "    split_factor=1,\n",
    "    bioshade_feedback=True,\n",
    "    repair_state=True,\n",
    ")"
   ]
  },
  {
   "cell_type": "markdown",
   "metadata": {},
   "source": [
    "Next, assign the block to the `GLMNML` object:"
   ]
  },
  {
   "cell_type": "code",
   "execution_count": null,
   "metadata": {},
   "outputs": [],
   "source": [
    "sparkling.set_block(nml_name=\"glm\", block=wq_setup)"
   ]
  },
  {
   "cell_type": "markdown",
   "metadata": {},
   "source": [
    "### Case 1"
   ]
  },
  {
   "cell_type": "code",
   "execution_count": null,
   "metadata": {},
   "outputs": [],
   "source": [
    "nml_file = nml.NMLReader(\"case_studies/aed_case1.json\")\n",
    "aed_nml_obj = nml_file.to_nml_obj(aed_nml.AEDNML)\n",
    "sparkling.set_nml(aed_nml_obj)\n",
    "sparkling.get_param_value(\"aed\", \"aed_models\", \"models\")"
   ]
  },
  {
   "cell_type": "code",
   "execution_count": null,
   "metadata": {},
   "outputs": [],
   "source": [
    "sparkling.run(time_sim=True, write_log=True, glm_path=\"bin/glm_3.3.3_linux_arm64\")"
   ]
  },
  {
   "cell_type": "code",
   "execution_count": null,
   "metadata": {},
   "outputs": [],
   "source": [
    "nc.get_vars()"
   ]
  },
  {
   "cell_type": "code",
   "execution_count": null,
   "metadata": {},
   "outputs": [],
   "source": [
    "var = \"OXY_oxy\"\n",
    "fig, ax = plt.subplots(figsize=(10, 5))\n",
    "plot_params = {\"vmin\": 0, \"vmax\": 550}\n",
    "out = nc.plot_var(ax=ax, var=var, param_dict=plot_params)\n",
    "col_bar = fig.colorbar(out)\n",
    "\n",
    "var_long_name = nc.get_long_name(var)\n",
    "var_units = nc.get_units(var)\n",
    "col_bar.set_label(f\"{var_long_name} ({var_units})\")"
   ]
  },
  {
   "cell_type": "markdown",
   "metadata": {},
   "source": [
    "### Case 2"
   ]
  },
  {
   "cell_type": "code",
   "execution_count": null,
   "metadata": {},
   "outputs": [],
   "source": [
    "nml_file = nml.NMLReader(\"case_studies/aed_case2.json\")\n",
    "aed_nml_obj = nml_file.to_nml_obj(aed_nml.AEDNML)\n",
    "sparkling.set_nml(aed_nml_obj)\n",
    "sparkling.get_param_value(\"aed\", \"aed_models\", \"models\")"
   ]
  },
  {
   "cell_type": "code",
   "execution_count": null,
   "metadata": {},
   "outputs": [],
   "source": [
    "sparkling.run(time_sim=True, write_log=True, glm_path=\"bin/glm_3.3.3_linux_arm64\")"
   ]
  },
  {
   "cell_type": "code",
   "execution_count": null,
   "metadata": {},
   "outputs": [],
   "source": [
    "nc.get_vars()"
   ]
  },
  {
   "cell_type": "code",
   "execution_count": null,
   "metadata": {},
   "outputs": [],
   "source": [
    "var = \"OXY_oxy\"\n",
    "fig, ax = plt.subplots(figsize=(10, 5))\n",
    "plot_params = {\"vmin\": 0, \"vmax\": 550}\n",
    "out = nc.plot_var(ax=ax, var=var, param_dict=plot_params)\n",
    "col_bar = fig.colorbar(out)\n",
    "\n",
    "var_long_name = nc.get_long_name(var)\n",
    "var_units = nc.get_units(var)\n",
    "col_bar.set_label(f\"{var_long_name} ({var_units})\")"
   ]
  },
  {
   "cell_type": "markdown",
   "metadata": {},
   "source": [
    "### Case 3"
   ]
  },
  {
   "cell_type": "code",
   "execution_count": null,
   "metadata": {},
   "outputs": [],
   "source": [
    "nml_file = nml.NMLReader(\"case_studies/aed_case3.json\")\n",
    "aed_nml_obj = nml_file.to_nml_obj(aed_nml.AEDNML)\n",
    "sparkling.set_nml(aed_nml_obj)\n",
    "sparkling.aed_dbase = [\"case_studies/aed_phyto_pars.csv\"]\n",
    "sparkling.get_param_value(\"aed\", \"aed_models\", \"models\")"
   ]
  },
  {
   "cell_type": "code",
   "execution_count": null,
   "metadata": {},
   "outputs": [],
   "source": [
    "sparkling.run(time_sim=True, write_log=True, glm_path=\"bin/glm_3.3.3_linux_arm64\")"
   ]
  },
  {
   "cell_type": "code",
   "execution_count": null,
   "metadata": {},
   "outputs": [],
   "source": [
    "nc.get_vars()"
   ]
  },
  {
   "cell_type": "code",
   "execution_count": null,
   "metadata": {},
   "outputs": [],
   "source": [
    "var = \"OXY_oxy\"\n",
    "fig, ax = plt.subplots(figsize=(10, 5))\n",
    "plot_params = {\"vmin\": 0, \"vmax\": 550}\n",
    "out = nc.plot_var(ax=ax, var=var, param_dict=plot_params)\n",
    "col_bar = fig.colorbar(out)\n",
    "\n",
    "var_long_name = nc.get_long_name(var)\n",
    "var_units = nc.get_units(var)\n",
    "col_bar.set_label(f\"{var_long_name} ({var_units})\")"
   ]
  },
  {
   "cell_type": "markdown",
   "metadata": {},
   "source": [
    "### Case 4"
   ]
  },
  {
   "cell_type": "code",
   "execution_count": null,
   "metadata": {},
   "outputs": [],
   "source": [
    "nml_file = nml.NMLReader(\"case_studies/aed_case4.json\")\n",
    "aed_nml_obj = nml_file.to_nml_obj(aed_nml.AEDNML)\n",
    "sparkling.nml[\"aed\"] = aed_nml_obj\n",
    "sparkling.get_param_value(\"aed\", \"aed_models\", \"models\")"
   ]
  },
  {
   "cell_type": "code",
   "execution_count": null,
   "metadata": {},
   "outputs": [],
   "source": [
    "sparkling.run(time_sim=True, write_log=True, glm_path=\"bin/glm_3.3.3_linux_arm64\")"
   ]
  },
  {
   "cell_type": "code",
   "execution_count": null,
   "metadata": {},
   "outputs": [],
   "source": [
    "nc.get_vars()"
   ]
  },
  {
   "cell_type": "code",
   "execution_count": null,
   "metadata": {},
   "outputs": [],
   "source": [
    "var = \"OXY_oxy\"\n",
    "fig, ax = plt.subplots(figsize=(10, 5))\n",
    "plot_params = {\"vmin\": 0, \"vmax\": 550}\n",
    "out = nc.plot_var(ax=ax, var=var, param_dict=plot_params)\n",
    "col_bar = fig.colorbar(out)\n",
    "\n",
    "var_long_name = nc.get_long_name(var)\n",
    "var_units = nc.get_units(var)\n",
    "col_bar.set_label(f\"{var_long_name} ({var_units})\")"
   ]
  },
  {
   "cell_type": "markdown",
   "metadata": {},
   "source": [
    "### Case 5"
   ]
  },
  {
   "cell_type": "code",
   "execution_count": null,
   "metadata": {},
   "outputs": [],
   "source": [
    "nml_file = nml.NMLReader(\"case_studies/aed_case5.json\")\n",
    "aed_nml_obj = nml_file.to_nml_obj(aed_nml.AEDNML)\n",
    "sparkling.nml[\"aed\"] = aed_nml_obj\n",
    "sparkling.get_param_value(\"aed\", \"aed_models\", \"models\")"
   ]
  },
  {
   "cell_type": "code",
   "execution_count": null,
   "metadata": {},
   "outputs": [],
   "source": [
    "sparkling.run(time_sim=True, write_log=True, glm_path=\"bin/glm_3.3.3_linux_arm64\")"
   ]
  },
  {
   "cell_type": "code",
   "execution_count": null,
   "metadata": {},
   "outputs": [],
   "source": [
    "nc.get_vars()"
   ]
  },
  {
   "cell_type": "code",
   "execution_count": null,
   "metadata": {},
   "outputs": [],
   "source": [
    "var = \"OXY_oxy\"\n",
    "fig, ax = plt.subplots(figsize=(10, 5))\n",
    "plot_params = {\"vmin\": 0, \"vmax\": 550}\n",
    "out = nc.plot_var(ax=ax, var=var, param_dict=plot_params)\n",
    "col_bar = fig.colorbar(out)\n",
    "\n",
    "var_long_name = nc.get_long_name(var)\n",
    "var_units = nc.get_units(var)\n",
    "col_bar.set_label(f\"{var_long_name} ({var_units})\")"
   ]
  },
  {
   "cell_type": "markdown",
   "metadata": {},
   "source": [
    "### Case 6"
   ]
  },
  {
   "cell_type": "code",
   "execution_count": null,
   "metadata": {},
   "outputs": [],
   "source": [
    "nml_file = nml.NMLReader(\"case_studies/aed_case6.json\")\n",
    "aed_nml_obj = nml_file.to_nml_obj(aed_nml.AEDNML)\n",
    "sparkling.set_nml(aed_nml_obj)\n",
    "sparkling.aed_dbase = [\n",
    "    \"case_studies/aed_phyto_pars.csv\", \"case_studies/aed_zoop_pars.csv\"\n",
    "]\n",
    "sparkling.get_param_value(\"aed\", \"aed_models\", \"models\")"
   ]
  },
  {
   "cell_type": "code",
   "execution_count": null,
   "metadata": {},
   "outputs": [],
   "source": [
    "sparkling.run(time_sim=True, write_log=True, glm_path=\"bin/glm_3.3.3_linux_arm64\")"
   ]
  },
  {
   "cell_type": "code",
   "execution_count": null,
   "metadata": {},
   "outputs": [],
   "source": [
    "nc.get_vars()"
   ]
  },
  {
   "cell_type": "code",
   "execution_count": null,
   "metadata": {},
   "outputs": [],
   "source": [
    "var = \"OXY_oxy\"\n",
    "fig, ax = plt.subplots(figsize=(10, 5))\n",
    "plot_params = {\"vmin\": 0, \"vmax\": 550}\n",
    "out = nc.plot_var(ax=ax, var=var, param_dict=plot_params)\n",
    "col_bar = fig.colorbar(out)\n",
    "\n",
    "var_long_name = nc.get_long_name(var)\n",
    "var_units = nc.get_units(var)\n",
    "col_bar.set_label(f\"{var_long_name} ({var_units})\")"
   ]
  }
 ],
 "metadata": {
  "kernelspec": {
   "display_name": "Python 3",
   "language": "python",
   "name": "python3"
  },
  "language_info": {
   "codemirror_mode": {
    "name": "ipython",
    "version": 3
   },
   "file_extension": ".py",
   "mimetype": "text/x-python",
   "name": "python",
   "nbconvert_exporter": "python",
   "pygments_lexer": "ipython3",
   "version": "3.10.11"
  }
 },
 "nbformat": 4,
 "nbformat_minor": 2
}
